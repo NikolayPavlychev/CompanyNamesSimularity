{
 "cells": [
  {
   "cell_type": "code",
   "execution_count": 1,
   "metadata": {
    "pycharm": {
     "name": "#%%\n"
    }
   },
   "outputs": [
    {
     "name": "stdout",
     "output_type": "stream",
     "text": [
      "Defaulting to user installation because normal site-packages is not writeable\n",
      "Requirement already satisfied: sentence-transformers in /home/nikolaypavlychev/.local/lib/python3.10/site-packages (2.2.2)\n",
      "Requirement already satisfied: huggingface-hub>=0.4.0 in /home/nikolaypavlychev/.local/lib/python3.10/site-packages (from sentence-transformers) (0.9.1)\n",
      "Requirement already satisfied: scipy in /home/nikolaypavlychev/.local/lib/python3.10/site-packages (from sentence-transformers) (1.9.0)\n",
      "Requirement already satisfied: torchvision in /home/nikolaypavlychev/.local/lib/python3.10/site-packages (from sentence-transformers) (0.13.0+cu113)\n",
      "Requirement already satisfied: tqdm in /home/nikolaypavlychev/.local/lib/python3.10/site-packages (from sentence-transformers) (4.64.0)\n",
      "Requirement already satisfied: scikit-learn in /home/nikolaypavlychev/.local/lib/python3.10/site-packages (from sentence-transformers) (1.0.2)\n",
      "Requirement already satisfied: sentencepiece in /home/nikolaypavlychev/.local/lib/python3.10/site-packages (from sentence-transformers) (0.1.97)\n",
      "Requirement already satisfied: nltk in /home/nikolaypavlychev/.local/lib/python3.10/site-packages (from sentence-transformers) (3.7)\n",
      "Requirement already satisfied: transformers<5.0.0,>=4.6.0 in /home/nikolaypavlychev/.local/lib/python3.10/site-packages (from sentence-transformers) (4.21.3)\n",
      "Requirement already satisfied: numpy in /home/nikolaypavlychev/.local/lib/python3.10/site-packages (from sentence-transformers) (1.23.3)\n",
      "Requirement already satisfied: torch>=1.6.0 in /home/nikolaypavlychev/.local/lib/python3.10/site-packages (from sentence-transformers) (1.12.0+cu113)\n",
      "Requirement already satisfied: filelock in /home/nikolaypavlychev/.local/lib/python3.10/site-packages (from huggingface-hub>=0.4.0->sentence-transformers) (3.8.0)\n",
      "Requirement already satisfied: requests in /home/nikolaypavlychev/.local/lib/python3.10/site-packages (from huggingface-hub>=0.4.0->sentence-transformers) (2.23.0)\n",
      "Requirement already satisfied: typing-extensions>=3.7.4.3 in /home/nikolaypavlychev/.local/lib/python3.10/site-packages (from huggingface-hub>=0.4.0->sentence-transformers) (4.3.0)\n",
      "Requirement already satisfied: packaging>=20.9 in /usr/lib/python3/dist-packages (from huggingface-hub>=0.4.0->sentence-transformers) (21.3)\n",
      "Requirement already satisfied: pyyaml>=5.1 in /usr/lib/python3/dist-packages (from huggingface-hub>=0.4.0->sentence-transformers) (5.4.1)\n",
      "Requirement already satisfied: regex!=2019.12.17 in /home/nikolaypavlychev/.local/lib/python3.10/site-packages (from transformers<5.0.0,>=4.6.0->sentence-transformers) (2022.8.17)\n",
      "Requirement already satisfied: tokenizers!=0.11.3,<0.13,>=0.11.1 in /home/nikolaypavlychev/.local/lib/python3.10/site-packages (from transformers<5.0.0,>=4.6.0->sentence-transformers) (0.12.1)\n",
      "Requirement already satisfied: joblib in /home/nikolaypavlychev/.local/lib/python3.10/site-packages (from nltk->sentence-transformers) (1.1.0)\n",
      "Requirement already satisfied: click in /usr/lib/python3/dist-packages (from nltk->sentence-transformers) (8.0.3)\n",
      "Requirement already satisfied: threadpoolctl>=2.0.0 in /home/nikolaypavlychev/.local/lib/python3.10/site-packages (from scikit-learn->sentence-transformers) (3.1.0)\n",
      "Requirement already satisfied: pillow!=8.3.*,>=5.3.0 in /usr/lib/python3/dist-packages (from torchvision->sentence-transformers) (9.0.1)\n",
      "Requirement already satisfied: certifi>=2017.4.17 in /usr/lib/python3/dist-packages (from requests->huggingface-hub>=0.4.0->sentence-transformers) (2020.6.20)\n",
      "Requirement already satisfied: idna<3,>=2.5 in /home/nikolaypavlychev/.local/lib/python3.10/site-packages (from requests->huggingface-hub>=0.4.0->sentence-transformers) (2.10)\n",
      "Requirement already satisfied: chardet<4,>=3.0.2 in /home/nikolaypavlychev/.local/lib/python3.10/site-packages (from requests->huggingface-hub>=0.4.0->sentence-transformers) (3.0.4)\n",
      "Requirement already satisfied: urllib3!=1.25.0,!=1.25.1,<1.26,>=1.21.1 in /home/nikolaypavlychev/.local/lib/python3.10/site-packages (from requests->huggingface-hub>=0.4.0->sentence-transformers) (1.25.11)\n",
      "Note: you may need to restart the kernel to use updated packages.\n"
     ]
    }
   ],
   "source": [
    "%pip install sentence-transformers"
   ]
  },
  {
   "cell_type": "code",
   "execution_count": 2,
   "metadata": {
    "pycharm": {
     "name": "#%%\n"
    }
   },
   "outputs": [
    {
     "name": "stdout",
     "output_type": "stream",
     "text": [
      "Defaulting to user installation because normal site-packages is not writeable\n",
      "Requirement already satisfied: ipywidgets in /usr/lib/python3/dist-packages (6.0.0)\n",
      "Collecting ipywidgets\n",
      "  Using cached ipywidgets-8.0.2-py3-none-any.whl (134 kB)\n",
      "Requirement already satisfied: ipykernel>=4.5.1 in /usr/lib/python3/dist-packages (from ipywidgets) (6.7.0)\n",
      "Requirement already satisfied: traitlets>=4.3.1 in /usr/lib/python3/dist-packages (from ipywidgets) (5.1.1)\n",
      "Collecting widgetsnbextension~=4.0\n",
      "  Using cached widgetsnbextension-4.0.3-py3-none-any.whl (2.0 MB)\n",
      "Collecting jupyterlab-widgets~=3.0\n",
      "  Using cached jupyterlab_widgets-3.0.3-py3-none-any.whl (384 kB)\n",
      "Requirement already satisfied: ipython>=6.1.0 in /usr/lib/python3/dist-packages (from ipywidgets) (7.31.1)\n",
      "Collecting debugpy<2.0,>=1.0.0\n",
      "  Downloading debugpy-1.6.3-cp310-cp310-manylinux_2_5_x86_64.manylinux1_x86_64.manylinux_2_12_x86_64.manylinux2010_x86_64.whl (1.8 MB)\n",
      "\u001B[2K     \u001B[90m━━━━━━━━━━━━━━━━━━━━━━━━━━━━━━━━━━━━━━━━\u001B[0m \u001B[32m1.8/1.8 MB\u001B[0m \u001B[31m8.9 MB/s\u001B[0m eta \u001B[36m0:00:00\u001B[0ma \u001B[36m0:00:01\u001B[0m\n",
      "\u001B[?25hInstalling collected packages: widgetsnbextension, jupyterlab-widgets, debugpy, ipywidgets\n",
      "Successfully installed debugpy-1.6.3 ipywidgets-8.0.2 jupyterlab-widgets-3.0.3 widgetsnbextension-4.0.3\n",
      "Note: you may need to restart the kernel to use updated packages.\n"
     ]
    }
   ],
   "source": [
    "%pip install --upgrade ipywidgets"
   ]
  },
  {
   "cell_type": "code",
   "execution_count": null,
   "outputs": [],
   "source": [
    "import warnings\n",
    "\n",
    "import numpy as np\n",
    "import pandas as pd\n",
    "from sentence_transformers import SentenceTransformer\n",
    "from sklearn.metrics import classification_report\n",
    "from sklearn.model_selection import train_test_split\n",
    "from tqdm import tqdm\n",
    "\n",
    "tqdm.pandas()\n",
    "warnings.filterwarnings(\"ignore\")"
   ],
   "metadata": {
    "collapsed": false,
    "pycharm": {
     "name": "#%%\n"
    }
   }
  },
  {
   "cell_type": "code",
   "execution_count": null,
   "outputs": [],
   "source": [
    "model_distiluse = SentenceTransformer(\n",
    "    \"sentence-transformers/distiluse-base-multilingual-cased-v2\", device=\"cuda\"\n",
    ")"
   ],
   "metadata": {
    "collapsed": false,
    "pycharm": {
     "name": "#%%\n"
    }
   }
  },
  {
   "cell_type": "code",
   "execution_count": null,
   "outputs": [],
   "source": [
    "dataset_train_test = pd.read_csv(\n",
    "    \"data/dataset_train_test.csv\",\n",
    "    sep=\";\",\n",
    "    dtype=object,\n",
    "    usecols=[\"pair_id\", \"name_1\", \"name_2\", \"is_duplicate\"],\n",
    ")\n",
    "dataset_train_test.head(10)"
   ],
   "metadata": {
    "collapsed": false,
    "pycharm": {
     "name": "#%%\n"
    }
   }
  },
  {
   "cell_type": "code",
   "execution_count": null,
   "outputs": [],
   "source": [
    "embeddings_name_1 = np.zeros((dataset_train_test.shape[0], 512), dtype=\"float32\")\n",
    "embeddings_name_2 = np.zeros((dataset_train_test.shape[0], 512), dtype=\"float32\")\n",
    "\n",
    "for i, sentence in enumerate(dataset_train_test[\"name_1\"]):\n",
    "    embeddings_name_1[i, :] = model_distiluse.encode(sentence)\n",
    "for i, sentence in enumerate(dataset_train_test[\"name_2\"]):\n",
    "    embeddings_name_2[i, :] = model_distiluse.encode(sentence)"
   ],
   "metadata": {
    "collapsed": false,
    "pycharm": {
     "name": "#%%\n"
    }
   }
  },
  {
   "cell_type": "code",
   "execution_count": null,
   "outputs": [],
   "source": [
    "embeddings_1 = np.hstack((embeddings_name_1, embeddings_name_2))"
   ],
   "metadata": {
    "collapsed": false,
    "pycharm": {
     "name": "#%%\n"
    }
   }
  },
  {
   "cell_type": "code",
   "execution_count": null,
   "outputs": [],
   "source": [
    "def cos_sim(a, b):\n",
    "    dot_product = np.dot(a, b)\n",
    "    norm_a = np.linalg.norm(a)\n",
    "    norm_b = np.linalg.norm(b)\n",
    "    return dot_product / (norm_a * norm_b)\n",
    "\n",
    "\n",
    "def simularity(embeddings):\n",
    "    distances = np.zeros(embeddings.shape[0])\n",
    "\n",
    "    for i, sentence in enumerate(embeddings):\n",
    "        vector_i = sentence[0:512]\n",
    "        vector_j = sentence[512:]\n",
    "        distances[i] = cos_sim(vector_i, vector_j)\n",
    "\n",
    "    return distances\n",
    "\n",
    "\n",
    "cos_distance = simularity(embeddings_1)\n",
    "\n",
    "dataset_train_test[\"cos_distance\"] = cos_distance"
   ],
   "metadata": {
    "collapsed": false,
    "pycharm": {
     "name": "#%%\n"
    }
   }
  },
  {
   "cell_type": "code",
   "execution_count": null,
   "outputs": [],
   "source": [
    "cols = [\"emb_\" + str(i) for i in range(embeddings_1.shape[1])]\n",
    "embeddings_1_pd = pd.DataFrame(data=embeddings_1, columns=cols)\n",
    "embeddings_1_pd.head(10)"
   ],
   "metadata": {
    "collapsed": false,
    "pycharm": {
     "name": "#%%\n"
    }
   }
  },
  {
   "cell_type": "code",
   "execution_count": null,
   "outputs": [],
   "source": [
    "dataset_train_test = dataset_train_test[\n",
    "    [\"pair_id\", \"name_1\", \"name_2\", \"cos_distance\", \"is_duplicate\"]\n",
    "]\n",
    "dataset_train_test = pd.concat((dataset_train_test, embeddings_1_pd), axis=1)\n",
    "\n",
    "dataset_train_test.shape"
   ],
   "metadata": {
    "collapsed": false,
    "pycharm": {
     "name": "#%%\n"
    }
   }
  },
  {
   "cell_type": "code",
   "execution_count": null,
   "outputs": [],
   "source": [
    "train, test, y_train, y_test = train_test_split(\n",
    "    dataset_train_test.drop([\"pair_id\", \"name_1\", \"name_2\", \"is_duplicate\"], axis=1),\n",
    "    dataset_train_test[\"is_duplicate\"],\n",
    "    test_size=0.3,\n",
    "    shuffle=True,\n",
    "    random_state=42,\n",
    ")"
   ],
   "metadata": {
    "collapsed": false,
    "pycharm": {
     "name": "#%%\n"
    }
   }
  },
  {
   "cell_type": "code",
   "execution_count": null,
   "outputs": [],
   "source": [
    "from sklearn.linear_model import LogisticRegression\n",
    "\n",
    "\n",
    "logreg = LogisticRegression()\n",
    "logreg.fit(train, y_train)\n",
    "y_train_pred = logreg.predict(train)\n",
    "\n",
    "print(classification_report(y_train, y_train_pred))"
   ],
   "metadata": {
    "collapsed": false,
    "pycharm": {
     "name": "#%%\n"
    }
   }
  },
  {
   "cell_type": "code",
   "execution_count": null,
   "outputs": [],
   "source": [
    "y_test_pred = logreg.predict(test)\n",
    "\n",
    "print(classification_report(y_test, y_test_pred))"
   ],
   "metadata": {
    "collapsed": false,
    "pycharm": {
     "name": "#%%\n"
    }
   }
  },
  {
   "cell_type": "code",
   "execution_count": null,
   "outputs": [],
   "source": [
    "from sentence_transformers import SentenceTransformer\n",
    "\n",
    "model_miniLM = SentenceTransformer(\n",
    "    \"sentence-transformers/paraphrase-multilingual-MiniLM-L12-v2\", device=\"cuda\"\n",
    ")\n",
    "\n",
    "dataset_train_test = pd.read_csv(\n",
    "    \"data/dataset_train_test.csv\",\n",
    "    sep=\";\",\n",
    "    dtype=object,\n",
    "    usecols=[\"pair_id\", \"name_1\", \"name_2\", \"is_duplicate\"],\n",
    ")\n",
    "dataset_train_test.head(10)"
   ],
   "metadata": {
    "collapsed": false,
    "pycharm": {
     "name": "#%%\n"
    }
   }
  },
  {
   "cell_type": "code",
   "execution_count": null,
   "outputs": [],
   "source": [
    "embeddings_name_1 = np.zeros((dataset_train_test.shape[0], 384), dtype=\"float32\")\n",
    "embeddings_name_2 = np.zeros((dataset_train_test.shape[0], 384), dtype=\"float32\")\n",
    "\n",
    "for i, sentence in enumerate(dataset_train_test[\"name_1\"]):\n",
    "    embeddings_name_1[i, :] = model_miniLM.encode(sentence)\n",
    "for i, sentence in enumerate(dataset_train_test[\"name_2\"]):\n",
    "    embeddings_name_2[i, :] = model_miniLM.encode(sentence)"
   ],
   "metadata": {
    "collapsed": false,
    "pycharm": {
     "name": "#%%\n"
    }
   }
  },
  {
   "cell_type": "code",
   "execution_count": null,
   "outputs": [],
   "source": [
    "embeddings_1 = np.hstack((embeddings_name_1, embeddings_name_2))\n",
    "\n",
    "\n",
    "def cos_sim(a, b):\n",
    "    dot_product = np.dot(a, b)\n",
    "    norm_a = np.linalg.norm(a)\n",
    "    norm_b = np.linalg.norm(b)\n",
    "    return dot_product / (norm_a * norm_b)\n",
    "\n",
    "\n",
    "def simularity(embeddings):\n",
    "    distances = np.zeros(embeddings.shape[0])\n",
    "\n",
    "    for i, sentence in enumerate(embeddings):\n",
    "        vector_i = sentence[0:384]\n",
    "        vector_j = sentence[384:]\n",
    "        distances[i] = cos_sim(vector_i, vector_j)\n",
    "\n",
    "    return distances\n",
    "\n",
    "\n",
    "cos_distance = simularity(embeddings_1)\n",
    "\n",
    "dataset_train_test[\"cos_distance\"] = cos_distance\n",
    "\n",
    "cols = [\"emb_\" + str(i) for i in range(embeddings_1.shape[1])]\n",
    "embeddings_1_pd = pd.DataFrame(data=embeddings_1, columns=cols)\n",
    "\n",
    "dataset_train_test = dataset_train_test[\n",
    "    [\"pair_id\", \"name_1\", \"name_2\", \"cos_distance\", \"is_duplicate\"]\n",
    "]\n",
    "dataset_train_test = pd.concat((dataset_train_test, embeddings_1_pd), axis=1)\n",
    "\n",
    "train, test, y_train, y_test = train_test_split(\n",
    "    dataset_train_test.drop([\"pair_id\", \"name_1\", \"name_2\", \"is_duplicate\"], axis=1),\n",
    "    dataset_train_test[\"is_duplicate\"],\n",
    "    test_size=0.3,\n",
    "    shuffle=True,\n",
    "    random_state=42,\n",
    ")"
   ],
   "metadata": {
    "collapsed": false,
    "pycharm": {
     "name": "#%%\n"
    }
   }
  },
  {
   "cell_type": "code",
   "execution_count": null,
   "outputs": [],
   "source": [
    "from sklearn.linear_model import LogisticRegression\n",
    "\n",
    "\n",
    "logreg = LogisticRegression()\n",
    "logreg.fit(train, y_train)\n",
    "y_train_pred = logreg.predict(train)\n",
    "\n",
    "print(classification_report(y_train, y_train_pred))"
   ],
   "metadata": {
    "collapsed": false,
    "pycharm": {
     "name": "#%%\n"
    }
   }
  },
  {
   "cell_type": "code",
   "execution_count": 10,
   "metadata": {
    "pycharm": {
     "name": "#%%\n"
    }
   },
   "outputs": [
    {
     "name": "stdout",
     "output_type": "stream",
     "text": [
      "              precision    recall  f1-score   support\n",
      "\n",
      "           0       0.93      0.91      0.92      1087\n",
      "           1       0.91      0.93      0.92      1073\n",
      "\n",
      "    accuracy                           0.92      2160\n",
      "   macro avg       0.92      0.92      0.92      2160\n",
      "weighted avg       0.92      0.92      0.92      2160\n",
      "\n"
     ]
    }
   ],
   "source": [
    "y_test_pred = logreg.predict(test)\n",
    "\n",
    "print(classification_report(y_test, y_test_pred))"
   ]
  },
  {
   "cell_type": "code",
   "execution_count": 11,
   "metadata": {
    "pycharm": {
     "name": "#%%\n"
    }
   },
   "outputs": [
    {
     "name": "stdout",
     "output_type": "stream",
     "text": [
      "huggingface/tokenizers: The current process just got forked, after parallelism has already been used. Disabling parallelism to avoid deadlocks...\n",
      "To disable this warning, you can either:\n",
      "\t- Avoid using `tokenizers` before the fork if possible\n",
      "\t- Explicitly set the environment variable TOKENIZERS_PARALLELISM=(true | false)\n",
      "Note: you may need to restart the kernel to use updated packages.\n"
     ]
    }
   ],
   "source": [
    "%pip freeze>>requirements.txt"
   ]
  },
  {
   "cell_type": "code",
   "execution_count": null,
   "metadata": {
    "pycharm": {
     "name": "#%%\n"
    }
   },
   "outputs": [],
   "source": []
  }
 ],
 "metadata": {
  "kernelspec": {
   "display_name": "Python 3.10.4 64-bit",
   "language": "python",
   "name": "python3"
  },
  "language_info": {
   "codemirror_mode": {
    "name": "ipython",
    "version": 3
   },
   "file_extension": ".py",
   "mimetype": "text/x-python",
   "name": "python",
   "nbconvert_exporter": "python",
   "pygments_lexer": "ipython3",
   "version": "3.10.4"
  },
  "orig_nbformat": 4,
  "vscode": {
   "interpreter": {
    "hash": "31f2aee4e71d21fbe5cf8b01ff0e069b9275f58929596ceb00d14d90e3e16cd6"
   }
  }
 },
 "nbformat": 4,
 "nbformat_minor": 2
}