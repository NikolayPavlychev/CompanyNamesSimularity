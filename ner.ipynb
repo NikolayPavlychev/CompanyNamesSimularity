{
 "cells": [
  {
   "cell_type": "code",
   "execution_count": 6,
   "id": "8639de05",
   "metadata": {
    "pycharm": {
     "name": "#%%\n"
    }
   },
   "outputs": [
    {
     "name": "stderr",
     "output_type": "stream",
     "text": [
      "2022-10-26 09:44:45.077515: I tensorflow/core/platform/cpu_feature_guard.cc:193] This TensorFlow binary is optimized with oneAPI Deep Neural Network Library (oneDNN) to use the following CPU instructions in performance-critical operations:  AVX2 FMA\n",
      "To enable them in other operations, rebuild TensorFlow with the appropriate compiler flags.\n"
     ]
    }
   ],
   "source": [
    "from flair.models import SequenceTagger\n",
    "from flair.data import Sentence\n",
    "import pandas as pd\n",
    "import xgboost as xgb\n",
    "import numpy as np"
   ]
  },
  {
   "cell_type": "code",
   "execution_count": 7,
   "id": "overhead-neighbor",
   "metadata": {
    "pycharm": {
     "name": "#%%\n"
    }
   },
   "outputs": [
    {
     "data": {
      "text/html": [
       "<div>\n",
       "<style scoped>\n",
       "    .dataframe tbody tr th:only-of-type {\n",
       "        vertical-align: middle;\n",
       "    }\n",
       "\n",
       "    .dataframe tbody tr th {\n",
       "        vertical-align: top;\n",
       "    }\n",
       "\n",
       "    .dataframe thead th {\n",
       "        text-align: right;\n",
       "    }\n",
       "</style>\n",
       "<table border=\"1\" class=\"dataframe\">\n",
       "  <thead>\n",
       "    <tr style=\"text-align: right;\">\n",
       "      <th></th>\n",
       "      <th>pair_id</th>\n",
       "      <th>name_1</th>\n",
       "      <th>name_2</th>\n",
       "      <th>is_duplicate</th>\n",
       "    </tr>\n",
       "  </thead>\n",
       "  <tbody>\n",
       "    <tr>\n",
       "      <th>0</th>\n",
       "      <td>1</td>\n",
       "      <td>Iko Industries Ltd.</td>\n",
       "      <td>Enormous Industrial Trade Pvt., Ltd.</td>\n",
       "      <td>0</td>\n",
       "    </tr>\n",
       "    <tr>\n",
       "      <th>1</th>\n",
       "      <td>2</td>\n",
       "      <td>Apcotex Industries Ltd.</td>\n",
       "      <td>Technocraft Industries (India) Ltd.</td>\n",
       "      <td>0</td>\n",
       "    </tr>\n",
       "    <tr>\n",
       "      <th>2</th>\n",
       "      <td>3</td>\n",
       "      <td>Rishichem Distributors Pvt., Ltd.</td>\n",
       "      <td>Dsa</td>\n",
       "      <td>0</td>\n",
       "    </tr>\n",
       "    <tr>\n",
       "      <th>3</th>\n",
       "      <td>4</td>\n",
       "      <td>Powermax Rubber Factory</td>\n",
       "      <td>Co. One</td>\n",
       "      <td>0</td>\n",
       "    </tr>\n",
       "    <tr>\n",
       "      <th>4</th>\n",
       "      <td>5</td>\n",
       "      <td>Tress A/S</td>\n",
       "      <td>Longyou Industries Park Zhejiang</td>\n",
       "      <td>0</td>\n",
       "    </tr>\n",
       "  </tbody>\n",
       "</table>\n",
       "</div>"
      ],
      "text/plain": [
       "   pair_id                             name_1  \\\n",
       "0        1                Iko Industries Ltd.   \n",
       "1        2            Apcotex Industries Ltd.   \n",
       "2        3  Rishichem Distributors Pvt., Ltd.   \n",
       "3        4            Powermax Rubber Factory   \n",
       "4        5                          Tress A/S   \n",
       "\n",
       "                                 name_2  is_duplicate  \n",
       "0  Enormous Industrial Trade Pvt., Ltd.             0  \n",
       "1   Technocraft Industries (India) Ltd.             0  \n",
       "2                                   Dsa             0  \n",
       "3                               Co. One             0  \n",
       "4      Longyou Industries Park Zhejiang             0  "
      ]
     },
     "execution_count": 7,
     "metadata": {},
     "output_type": "execute_result"
    }
   ],
   "source": [
    "data = pd.read_csv('./train.csv')\n",
    "data.head()"
   ]
  },
  {
   "cell_type": "code",
   "execution_count": 3,
   "id": "d23802f5",
   "metadata": {
    "pycharm": {
     "name": "#%%\n"
    }
   },
   "outputs": [
    {
     "data": {
      "text/html": [
       "<div>\n",
       "<style scoped>\n",
       "    .dataframe tbody tr th:only-of-type {\n",
       "        vertical-align: middle;\n",
       "    }\n",
       "\n",
       "    .dataframe tbody tr th {\n",
       "        vertical-align: top;\n",
       "    }\n",
       "\n",
       "    .dataframe thead th {\n",
       "        text-align: right;\n",
       "    }\n",
       "</style>\n",
       "<table border=\"1\" class=\"dataframe\">\n",
       "  <thead>\n",
       "    <tr style=\"text-align: right;\">\n",
       "      <th></th>\n",
       "      <th>pair_id</th>\n",
       "      <th>name_1</th>\n",
       "      <th>name_2</th>\n",
       "      <th>is_duplicate</th>\n",
       "    </tr>\n",
       "  </thead>\n",
       "  <tbody>\n",
       "    <tr>\n",
       "      <th>161</th>\n",
       "      <td>162</td>\n",
       "      <td>JX Nippon Oil &amp; Gas Exploration (Brasil) Ltda</td>\n",
       "      <td>JX Nippon Oil &amp; Gas Exploration Technical Serv...</td>\n",
       "      <td>1</td>\n",
       "    </tr>\n",
       "    <tr>\n",
       "      <th>603</th>\n",
       "      <td>604</td>\n",
       "      <td>Pirelli Neumaticos S.A.I.C.</td>\n",
       "      <td>Pirelli Tyre Co., Ltd.</td>\n",
       "      <td>1</td>\n",
       "    </tr>\n",
       "    <tr>\n",
       "      <th>835</th>\n",
       "      <td>836</td>\n",
       "      <td>Brenntag Australia (Pty) Ltd.</td>\n",
       "      <td>Brenntag Group</td>\n",
       "      <td>1</td>\n",
       "    </tr>\n",
       "    <tr>\n",
       "      <th>1328</th>\n",
       "      <td>1329</td>\n",
       "      <td>PAUL BAUDER GMBH &amp; CO KG, BOCHUM PLANT</td>\n",
       "      <td>Paul Bauder ag</td>\n",
       "      <td>1</td>\n",
       "    </tr>\n",
       "    <tr>\n",
       "      <th>1562</th>\n",
       "      <td>1563</td>\n",
       "      <td>TOTAL CESKA REPUBLIKA s.r.o.</td>\n",
       "      <td>TOTAL FRANCE (ARNAY LE DUC)</td>\n",
       "      <td>1</td>\n",
       "    </tr>\n",
       "    <tr>\n",
       "      <th>...</th>\n",
       "      <td>...</td>\n",
       "      <td>...</td>\n",
       "      <td>...</td>\n",
       "      <td>...</td>\n",
       "    </tr>\n",
       "    <tr>\n",
       "      <th>496574</th>\n",
       "      <td>496575</td>\n",
       "      <td>Bridgestone （Huizhou）Synthetic Rubber Co., Ltd.</td>\n",
       "      <td>Bridgestone India Pvt., Ltd.</td>\n",
       "      <td>1</td>\n",
       "    </tr>\n",
       "    <tr>\n",
       "      <th>496760</th>\n",
       "      <td>496761</td>\n",
       "      <td>Arlanxeo International Group</td>\n",
       "      <td>Arlanxeo Corp.</td>\n",
       "      <td>1</td>\n",
       "    </tr>\n",
       "    <tr>\n",
       "      <th>497015</th>\n",
       "      <td>497016</td>\n",
       "      <td>Brenntag Peru S.A.C.</td>\n",
       "      <td>Brenntag Chile Comercial E Industrial Ltda</td>\n",
       "      <td>1</td>\n",
       "    </tr>\n",
       "    <tr>\n",
       "      <th>497083</th>\n",
       "      <td>497084</td>\n",
       "      <td>Dow Chemical International Private Ltd.</td>\n",
       "      <td>Dow Chemical Pacific</td>\n",
       "      <td>1</td>\n",
       "    </tr>\n",
       "    <tr>\n",
       "      <th>497605</th>\n",
       "      <td>497606</td>\n",
       "      <td>Bridgestone （Huizhou）Synthetic Rubber Co., Ltd.</td>\n",
       "      <td>Bridgestone International Group</td>\n",
       "      <td>1</td>\n",
       "    </tr>\n",
       "  </tbody>\n",
       "</table>\n",
       "<p>3658 rows × 4 columns</p>\n",
       "</div>"
      ],
      "text/plain": [
       "        pair_id                                           name_1  \\\n",
       "161         162    JX Nippon Oil & Gas Exploration (Brasil) Ltda   \n",
       "603         604                      Pirelli Neumaticos S.A.I.C.   \n",
       "835         836                    Brenntag Australia (Pty) Ltd.   \n",
       "1328       1329           PAUL BAUDER GMBH & CO KG, BOCHUM PLANT   \n",
       "1562       1563                     TOTAL CESKA REPUBLIKA s.r.o.   \n",
       "...         ...                                              ...   \n",
       "496574   496575  Bridgestone （Huizhou）Synthetic Rubber Co., Ltd.   \n",
       "496760   496761                     Arlanxeo International Group   \n",
       "497015   497016                             Brenntag Peru S.A.C.   \n",
       "497083   497084          Dow Chemical International Private Ltd.   \n",
       "497605   497606  Bridgestone （Huizhou）Synthetic Rubber Co., Ltd.   \n",
       "\n",
       "                                                   name_2  is_duplicate  \n",
       "161     JX Nippon Oil & Gas Exploration Technical Serv...             1  \n",
       "603                                Pirelli Tyre Co., Ltd.             1  \n",
       "835                                        Brenntag Group             1  \n",
       "1328                                       Paul Bauder ag             1  \n",
       "1562                          TOTAL FRANCE (ARNAY LE DUC)             1  \n",
       "...                                                   ...           ...  \n",
       "496574                       Bridgestone India Pvt., Ltd.             1  \n",
       "496760                                     Arlanxeo Corp.             1  \n",
       "497015         Brenntag Chile Comercial E Industrial Ltda             1  \n",
       "497083                               Dow Chemical Pacific             1  \n",
       "497605                    Bridgestone International Group             1  \n",
       "\n",
       "[3658 rows x 4 columns]"
      ]
     },
     "execution_count": 3,
     "metadata": {},
     "output_type": "execute_result"
    }
   ],
   "source": [
    "data[data.is_duplicate == 1]"
   ]
  },
  {
   "cell_type": "code",
   "execution_count": 23,
   "id": "1dc0b84c",
   "metadata": {
    "pycharm": {
     "name": "#%%\n"
    }
   },
   "outputs": [
    {
     "data": {
      "text/html": [
       "<div>\n",
       "<style scoped>\n",
       "    .dataframe tbody tr th:only-of-type {\n",
       "        vertical-align: middle;\n",
       "    }\n",
       "\n",
       "    .dataframe tbody tr th {\n",
       "        vertical-align: top;\n",
       "    }\n",
       "\n",
       "    .dataframe thead th {\n",
       "        text-align: right;\n",
       "    }\n",
       "</style>\n",
       "<table border=\"1\" class=\"dataframe\">\n",
       "  <thead>\n",
       "    <tr style=\"text-align: right;\">\n",
       "      <th></th>\n",
       "      <th>pair_id</th>\n",
       "      <th>name_2</th>\n",
       "      <th>is_duplicate</th>\n",
       "    </tr>\n",
       "    <tr>\n",
       "      <th>name_1</th>\n",
       "      <th></th>\n",
       "      <th></th>\n",
       "      <th></th>\n",
       "    </tr>\n",
       "  </thead>\n",
       "  <tbody>\n",
       "    <tr>\n",
       "      <th>Alfagomma</th>\n",
       "      <td>1</td>\n",
       "      <td>1</td>\n",
       "      <td>1</td>\n",
       "    </tr>\n",
       "    <tr>\n",
       "      <th>TOTAL OIL INDIA PRIVATE LIMITED,  TOTAL</th>\n",
       "      <td>121</td>\n",
       "      <td>121</td>\n",
       "      <td>121</td>\n",
       "    </tr>\n",
       "    <tr>\n",
       "      <th>(Camso Loadstar ( Pivt ) Ltd.)</th>\n",
       "      <td>11</td>\n",
       "      <td>11</td>\n",
       "      <td>11</td>\n",
       "    </tr>\n",
       "    <tr>\n",
       "      <th>*** ПОЛИМАРКЕТ, ООО</th>\n",
       "      <td>1</td>\n",
       "      <td>1</td>\n",
       "      <td>1</td>\n",
       "    </tr>\n",
       "    <tr>\n",
       "      <th>1 4103412224 Tel Ex 1 410341 23</th>\n",
       "      <td>132</td>\n",
       "      <td>132</td>\n",
       "      <td>132</td>\n",
       "    </tr>\n",
       "    <tr>\n",
       "      <th>...</th>\n",
       "      <td>...</td>\n",
       "      <td>...</td>\n",
       "      <td>...</td>\n",
       "    </tr>\n",
       "    <tr>\n",
       "      <th>Репсол</th>\n",
       "      <td>42</td>\n",
       "      <td>42</td>\n",
       "      <td>42</td>\n",
       "    </tr>\n",
       "    <tr>\n",
       "      <th>СОДЕКС АГ</th>\n",
       "      <td>1</td>\n",
       "      <td>1</td>\n",
       "      <td>1</td>\n",
       "    </tr>\n",
       "    <tr>\n",
       "      <th>ФИЛИАЛ КОМПАНИИ ЭКСОН НЕФТЕГАЗ ЛИМИТЕД</th>\n",
       "      <td>1</td>\n",
       "      <td>1</td>\n",
       "      <td>1</td>\n",
       "    </tr>\n",
       "    <tr>\n",
       "      <th>ХИМИНВЕСТ ГРУПП, ООО</th>\n",
       "      <td>1</td>\n",
       "      <td>1</td>\n",
       "      <td>1</td>\n",
       "    </tr>\n",
       "    <tr>\n",
       "      <th>ХИМИНВЕСТ НПФ, ООО</th>\n",
       "      <td>2</td>\n",
       "      <td>2</td>\n",
       "      <td>2</td>\n",
       "    </tr>\n",
       "  </tbody>\n",
       "</table>\n",
       "<p>17656 rows × 3 columns</p>\n",
       "</div>"
      ],
      "text/plain": [
       "                                          pair_id  name_2  is_duplicate\n",
       "name_1                                                                 \n",
       " Alfagomma                                      1       1             1\n",
       " TOTAL OIL INDIA PRIVATE LIMITED,  TOTAL      121     121           121\n",
       "(Camso Loadstar ( Pivt ) Ltd.)                 11      11            11\n",
       "*** ПОЛИМАРКЕТ, ООО                             1       1             1\n",
       "1 4103412224 Tel Ex 1 410341 23               132     132           132\n",
       "...                                           ...     ...           ...\n",
       "Репсол                                         42      42            42\n",
       "СОДЕКС АГ                                       1       1             1\n",
       "ФИЛИАЛ КОМПАНИИ ЭКСОН НЕФТЕГАЗ ЛИМИТЕД          1       1             1\n",
       "ХИМИНВЕСТ ГРУПП, ООО                            1       1             1\n",
       "ХИМИНВЕСТ НПФ, ООО                              2       2             2\n",
       "\n",
       "[17656 rows x 3 columns]"
      ]
     },
     "execution_count": 23,
     "metadata": {},
     "output_type": "execute_result"
    }
   ],
   "source": [
    "data.groupby(['name_1']).count()"
   ]
  },
  {
   "cell_type": "code",
   "execution_count": 4,
   "id": "87c4ed2d",
   "metadata": {
    "pycharm": {
     "name": "#%%\n"
    }
   },
   "outputs": [],
   "source": [
    "import spacy\n",
    "NER = spacy.load(\"en_core_web_sm\")"
   ]
  },
  {
   "cell_type": "markdown",
   "id": "bebafff0",
   "metadata": {
    "pycharm": {
     "name": "#%% md\n"
    }
   },
   "source": [
    "NER вещь интерсеная, но использовать его в одиночку для текущей задачи - бесполезно. Он выявляет сущности в тексте (организации, географические локации, имена, даты). Можно дополнительно к эмбедингам проверять является ли все текущее название названием организации."
   ]
  },
  {
   "cell_type": "code",
   "execution_count": 5,
   "id": "cfabd861",
   "metadata": {
    "pycharm": {
     "name": "#%%\n"
    }
   },
   "outputs": [
    {
     "data": {
      "text/plain": [
       "((Technocraft Industries,), (Apcotex Industries Ltd.,))"
      ]
     },
     "execution_count": 5,
     "metadata": {},
     "output_type": "execute_result"
    }
   ],
   "source": [
    "NER(data.iloc[1].name_2).ents, NER(data.iloc[1].name_1).ents"
   ]
  },
  {
   "cell_type": "code",
   "execution_count": 6,
   "id": "2d31fa3b",
   "metadata": {
    "pycharm": {
     "name": "#%%\n"
    }
   },
   "outputs": [
    {
     "name": "stdout",
     "output_type": "stream",
     "text": [
      "FRANCE GPE\n",
      "ARNAY ORG\n",
      "LE GPE\n",
      "DUC ORG\n"
     ]
    }
   ],
   "source": [
    "for elem in data.iloc[1562].name_2.split():\n",
    "    for word in NER(elem).ents:\n",
    "        print(word.text, word.label_)"
   ]
  },
  {
   "cell_type": "code",
   "execution_count": 7,
   "id": "94b47293",
   "metadata": {
    "pycharm": {
     "name": "#%%\n"
    }
   },
   "outputs": [
    {
     "name": "stdout",
     "output_type": "stream",
     "text": [
      "Iko Industries Ltd. ORG\n"
     ]
    }
   ],
   "source": [
    "for word in NER(data.iloc[0].name_1).ents:\n",
    "    print(word.text,word.label_)"
   ]
  },
  {
   "cell_type": "markdown",
   "id": "c1555905",
   "metadata": {
    "pycharm": {
     "name": "#%% md\n"
    }
   },
   "source": [
    " Можно попробовать разные виды эмбедингов, а поверх бинарный класстфикатор"
   ]
  },
  {
   "cell_type": "code",
   "execution_count": 16,
   "id": "satellite-samba",
   "metadata": {
    "pycharm": {
     "name": "#%%\n"
    }
   },
   "outputs": [],
   "source": [
    "from flair.embeddings import WordEmbeddings\n",
    "from flair.embeddings import CharacterEmbeddings\n",
    "from flair.embeddings import StackedEmbeddings\n",
    "from flair.embeddings import FlairEmbeddings\n",
    "from flair.embeddings import BertEmbeddings\n",
    "from flair.embeddings import ELMoEmbeddings\n",
    "from flair.embeddings import FlairEmbeddings"
   ]
  },
  {
   "cell_type": "code",
   "execution_count": 17,
   "id": "found-invalid",
   "metadata": {
    "pycharm": {
     "name": "#%%\n"
    }
   },
   "outputs": [],
   "source": [
    "### Initialising embeddings (un-comment to use others) ###\n",
    "# glove_embedding = WordEmbeddings('glove')\n",
    "#character_embeddings = CharacterEmbeddings()\n",
    "flair_forward  = FlairEmbeddings('news-forward-fast')\n",
    "# flair_backward = FlairEmbeddings('news-backward-fast')\n",
    "# bert_embedding = BertEmbeddings()\n",
    "#elmo_embedding = ElmoEmbedding()"
   ]
  },
  {
   "cell_type": "code",
   "execution_count": 18,
   "id": "foster-murder",
   "metadata": {
    "pycharm": {
     "name": "#%%\n"
    }
   },
   "outputs": [
    {
     "name": "stdout",
     "output_type": "stream",
     "text": [
      "tensor([-3.2673e-03, -1.0586e-05, -2.9737e-03,  ..., -3.4040e-09,\n",
      "         3.2332e-05,  1.4211e-01])\n",
      "tensor([-6.9752e-03, -9.2015e-05,  9.3430e-03,  ..., -4.5189e-09,\n",
      "         8.6353e-05,  3.7106e-03])\n",
      "tensor([ 2.3929e-04, -5.3914e-05,  1.2584e-02,  ..., -2.6205e-08,\n",
      "         2.9059e-04,  5.7078e-03])\n",
      "tensor([ 1.1926e-03, -3.1575e-05,  2.6557e-03,  ..., -1.4811e-07,\n",
      "        -6.5442e-06,  5.8404e-03])\n"
     ]
    }
   ],
   "source": [
    "sentence = Sentence(data.iloc[0].name_1)\n",
    "# embed words in sentence #\n",
    "flair_forward.embed(sentence)\n",
    "for token in sentence:\n",
    "    print(token.embedding)\n",
    "z = token.embedding.size()[0]"
   ]
  },
  {
   "cell_type": "code",
   "execution_count": 10,
   "id": "checked-cause",
   "metadata": {
    "pycharm": {
     "name": "#%%\n"
    }
   },
   "outputs": [],
   "source": [
    "import torch\n",
    "from sklearn.model_selection import train_test_split\n",
    "from tqdm import tqdm"
   ]
  },
  {
   "cell_type": "code",
   "execution_count": 11,
   "id": "6a60f534",
   "metadata": {
    "pycharm": {
     "name": "#%%\n"
    }
   },
   "outputs": [],
   "source": [
    "data = data[:3000]"
   ]
  },
  {
   "cell_type": "code",
   "execution_count": 12,
   "id": "about-algeria",
   "metadata": {
    "pycharm": {
     "name": "#%%\n"
    }
   },
   "outputs": [],
   "source": [
    "X_train, X_test, y_train, y_test = train_test_split(data[['name_1', 'name_2']], data.is_duplicate, test_size=0.33, random_state=42)"
   ]
  },
  {
   "cell_type": "code",
   "execution_count": 13,
   "id": "moderate-mystery",
   "metadata": {
    "pycharm": {
     "name": "#%%\n"
    }
   },
   "outputs": [
    {
     "data": {
      "text/plain": [
       "((2010, 2), (990, 2))"
      ]
     },
     "execution_count": 13,
     "metadata": {},
     "output_type": "execute_result"
    }
   ],
   "source": [
    "X_train.shape, X_test.shape"
   ]
  },
  {
   "cell_type": "code",
   "execution_count": 14,
   "id": "prostate-monkey",
   "metadata": {
    "pycharm": {
     "name": "#%%\n"
    }
   },
   "outputs": [],
   "source": [
    "def get_embed(X):\n",
    "    X_embed = []\n",
    "    s = torch.zeros(0, z)\n",
    "    # iterating Sentence (tqdm tracks progress) #\n",
    "    for i in tqdm(range(data.shape[0])):\n",
    "        tweet = data.iloc[i].name_1\n",
    "        # empty tensor for words #\n",
    "        w = torch.zeros(0, z)   \n",
    "        sentence = Sentence(tweet)\n",
    "\n",
    "        flair_forward.embed(sentence)\n",
    "        for token in sentence:\n",
    "            # storing word Embeddings of each word in a sentence #\n",
    "            w = torch.cat((w,token.embedding.view(-1,z)),0)\n",
    "              # storing sentence Embeddings (mean of embeddings of all words)   #\n",
    "            s = torch.cat((s, w.mean(dim = 0).view(-1, z)),0)\n",
    "        X_embed.append(s)\n",
    "    return X_embed"
   ]
  },
  {
   "cell_type": "code",
   "execution_count": 16,
   "id": "involved-reception",
   "metadata": {
    "pycharm": {
     "name": "#%%\n"
    }
   },
   "outputs": [
    {
     "name": "stderr",
     "output_type": "stream",
     "text": [
      "100%|███████████████████████████████████████| 3000/3000 [06:14<00:00,  8.00it/s]\n"
     ]
    }
   ],
   "source": [
    "# у меня не хватает мощностей опробовать хоть какие-то эмбединги на этой выборке\n",
    "# можно на меньшей\n",
    "X_train_embed = get_embed(X_train)"
   ]
  },
  {
   "cell_type": "code",
   "execution_count": null,
   "id": "0a17881c",
   "metadata": {
    "pycharm": {
     "name": "#%%\n"
    }
   },
   "outputs": [
    {
     "name": "stderr",
     "output_type": "stream",
     "text": [
      " 92%|███████████████████████████████████▊   | 2753/3000 [05:26<00:59,  4.14it/s]"
     ]
    }
   ],
   "source": [
    "X_test_embed = get_embed(X_test)"
   ]
  },
  {
   "cell_type": "code",
   "execution_count": 1,
   "id": "2eb4850b",
   "metadata": {
    "pycharm": {
     "name": "#%%\n"
    }
   },
   "outputs": [],
   "source": [
    "model = xgb.XGBClassifier()\n",
    "model.fit(np.array(X_train_embed), y_train)"
   ]
  },
  {
   "cell_type": "code",
   "execution_count": null,
   "id": "ed369e85",
   "metadata": {
    "pycharm": {
     "name": "#%%\n"
    }
   },
   "outputs": [],
   "source": [
    "y_pred = model.predict(X_test_embed)\n",
    "predictions = [round(value) for value in y_pred]"
   ]
  },
  {
   "cell_type": "code",
   "execution_count": null,
   "id": "33469b5b",
   "metadata": {
    "pycharm": {
     "name": "#%%\n"
    }
   },
   "outputs": [],
   "source": [
    "from sklearn.metrics import f1_score"
   ]
  },
  {
   "cell_type": "code",
   "execution_count": null,
   "id": "8ae8d8a4",
   "metadata": {
    "pycharm": {
     "name": "#%%\n"
    }
   },
   "outputs": [],
   "source": [
    "f1_score(y_test, y_pred)"
   ]
  }
 ],
 "metadata": {
  "kernelspec": {
   "display_name": "Python 3 (ipykernel)",
   "language": "python",
   "name": "python3"
  },
  "language_info": {
   "codemirror_mode": {
    "name": "ipython",
    "version": 3
   },
   "file_extension": ".py",
   "mimetype": "text/x-python",
   "name": "python",
   "nbconvert_exporter": "python",
   "pygments_lexer": "ipython3",
   "version": "3.9.12"
  }
 },
 "nbformat": 4,
 "nbformat_minor": 5
}