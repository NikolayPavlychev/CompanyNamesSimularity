{
 "cells": [
  {
   "cell_type": "code",
   "execution_count": null,
   "metadata": {
    "pycharm": {
     "name": "#%%\n"
    }
   },
   "outputs": [],
   "source": [
    "%pip install langdetect"
   ]
  },
  {
   "cell_type": "code",
   "execution_count": null,
   "outputs": [],
   "source": [
    "import string\n",
    "import sys\n",
    "import warnings\n",
    "\n",
    "import fasttext\n",
    "import numpy as np\n",
    "import pandas as pd\n",
    "from langdetect import detect\n",
    "from nltk.stem import SnowballStemmer\n",
    "from parapply import parapply\n",
    "from sklearn.metrics import classification_report\n",
    "from sklearn.model_selection import train_test_split\n",
    "from tqdm import tqdm\n",
    "\n",
    "tqdm.pandas()\n",
    "warnings.filterwarnings(\"ignore\")\n",
    "\n",
    "data = pd.read_csv(sys.path[0] + \"/train.csv\", sep=\",\", dtype=object)\n",
    "data.shape"
   ],
   "metadata": {
    "collapsed": false,
    "pycharm": {
     "name": "#%%\n"
    }
   }
  },
  {
   "cell_type": "code",
   "execution_count": null,
   "outputs": [],
   "source": [
    "def preprocessing(data, n_jobs=1):\n",
    "\n",
    "    for character in string.punctuation:\n",
    "        data[\"name_1\"] = data[\"name_1\"].apply(lambda x: str(x).replace(character, \"\"))\n",
    "        data[\"name_2\"] = data[\"name_2\"].apply(lambda x: str(x).replace(character, \"\"))\n",
    "\n",
    "    data[\"lang_1\"] = parapply(data[\"name_1\"], lambda x: detect(x), n_jobs=n_jobs)\n",
    "    data[\"lang_2\"] = parapply(data[\"name_2\"], lambda x: detect(x), n_jobs=n_jobs)\n",
    "\n",
    "    lang_ru_indexes = data[data[\"lang_1\"] == \"ru\"].index\n",
    "    print(lang_ru_indexes)\n",
    "    if len(list(lang_ru_indexes)) == 0:\n",
    "        lang_other_indexes = data.index\n",
    "    else:\n",
    "        lang_other_indexes = data.index.drop(lang_ru_indexes)\n",
    "    stemmer_ru = SnowballStemmer(\"russian\")\n",
    "    stemmer_other = SnowballStemmer(\"english\")\n",
    "\n",
    "    if len(list(lang_ru_indexes)) != 0:\n",
    "        data.loc[lang_ru_indexes, \"name_1_stemmed\"] = parapply(\n",
    "            data.loc[lang_ru_indexes, \"name_1\"], lambda x: stemmer_ru.stem(x), n_jobs=4\n",
    "        )\n",
    "        data.loc[lang_other_indexes, \"name_1_stemmed\"] = parapply(\n",
    "            data.loc[lang_other_indexes, \"name_1\"],\n",
    "            lambda x: stemmer_other.stem(x),\n",
    "            n_jobs=4,\n",
    "        )\n",
    "    else:\n",
    "        data.loc[lang_other_indexes, \"name_1_stemmed\"] = parapply(\n",
    "            data.loc[lang_other_indexes, \"name_1\"],\n",
    "            lambda x: stemmer_other.stem(x),\n",
    "            n_jobs=4,\n",
    "        )\n",
    "\n",
    "    lang_ru_indexes = data[data[\"lang_2\"] == \"ru\"].index\n",
    "    print(lang_ru_indexes)\n",
    "    if len(list(lang_ru_indexes)) == 0:\n",
    "        lang_other_indexes = data.index\n",
    "    else:\n",
    "        lang_other_indexes = data.index.drop(lang_ru_indexes)\n",
    "    stemmer_ru = SnowballStemmer(\"russian\")\n",
    "    stemmer_other = SnowballStemmer(\"english\")\n",
    "\n",
    "    if len(list(lang_ru_indexes)) != 0:\n",
    "        data.loc[lang_ru_indexes, \"name_2_stemmed\"] = parapply(\n",
    "            data.loc[lang_ru_indexes, \"name_2\"],\n",
    "            lambda x: stemmer_ru.stem(x),\n",
    "            n_jobs=n_jobs,\n",
    "        )\n",
    "        data.loc[lang_other_indexes, \"name_2_stemmed\"] = parapply(\n",
    "            data.loc[lang_other_indexes, \"name_2\"],\n",
    "            lambda x: stemmer_other.stem(x),\n",
    "            n_jobs=n_jobs,\n",
    "        )\n",
    "    else:\n",
    "        data.loc[lang_other_indexes, \"name_2_stemmed\"] = parapply(\n",
    "            data.loc[lang_other_indexes, \"name_2\"],\n",
    "            lambda x: stemmer_other.stem(x),\n",
    "            n_jobs=n_jobs,\n",
    "        )\n",
    "\n",
    "    return data\n",
    "\n",
    "\n",
    "def cos_sim(a, b):\n",
    "    dot_product = np.dot(a, b)\n",
    "    norm_a = np.linalg.norm(a)\n",
    "    norm_b = np.linalg.norm(b)\n",
    "    return dot_product / (norm_a * norm_b)"
   ],
   "metadata": {
    "collapsed": false,
    "pycharm": {
     "name": "#%%\n"
    }
   }
  },
  {
   "cell_type": "code",
   "execution_count": null,
   "outputs": [],
   "source": [
    "dataset = preprocessing(data, 4)"
   ],
   "metadata": {
    "collapsed": false,
    "pycharm": {
     "name": "#%%\n"
    }
   }
  },
  {
   "cell_type": "code",
   "execution_count": null,
   "outputs": [],
   "source": [
    "dataset.to_csv(\n",
    "    sys.path[0] + \"data/CompanyNamesSimularity_dataset.csv\", sep=\";\", index=False\n",
    ")"
   ],
   "metadata": {
    "collapsed": false,
    "pycharm": {
     "name": "#%%\n"
    }
   }
  },
  {
   "cell_type": "code",
   "execution_count": null,
   "outputs": [],
   "source": [
    "dataset = pd.read_csv(\n",
    "    sys.path[0] + \"data/CompanyNamesSimularity_dataset.csv\", sep=\";\", dtype=object\n",
    ")"
   ],
   "metadata": {
    "collapsed": false,
    "pycharm": {
     "name": "#%%\n"
    }
   }
  },
  {
   "cell_type": "code",
   "execution_count": null,
   "outputs": [],
   "source": [
    "model_1 = fasttext.train_unsupervised(\n",
    "    input=sys.path[0] + \"/train_strings.csv\",\n",
    "    model=\"skipgram\",\n",
    "    minn=2,\n",
    "    maxn=5,\n",
    "    dim=300,\n",
    "    epoch=5,\n",
    "    lr=0.1,\n",
    "    thread=10,\n",
    ")\n",
    "model_2 = fasttext.train_unsupervised(\n",
    "    input=sys.path[0] + \"/train_strings.csv\",\n",
    "    model=\"skipgram\",\n",
    "    minn=2,\n",
    "    maxn=5,\n",
    "    dim=150,\n",
    "    epoch=7,\n",
    "    lr=0.05,\n",
    "    thread=10,\n",
    ")\n",
    "model_3 = fasttext.train_unsupervised(\n",
    "    input=sys.path[0] + \"/train_strings.csv\",\n",
    "    model=\"skipgram\",\n",
    "    minn=2,\n",
    "    maxn=5,\n",
    "    dim=100,\n",
    "    epoch=10,\n",
    "    lr=0.01,\n",
    "    thread=10,\n",
    ")"
   ],
   "metadata": {
    "collapsed": false,
    "pycharm": {
     "name": "#%%\n"
    }
   }
  },
  {
   "cell_type": "code",
   "execution_count": null,
   "outputs": [],
   "source": [
    "model_1.save_model(sys.path[0] + \"/model_1.bin\")\n",
    "model_2.save_model(sys.path[0] + \"/model_2.bin\")\n",
    "model_3.save_model(sys.path[0] + \"/model_3.bin\")"
   ],
   "metadata": {
    "collapsed": false,
    "pycharm": {
     "name": "#%%\n"
    }
   }
  },
  {
   "cell_type": "code",
   "execution_count": null,
   "outputs": [],
   "source": [
    "model_1 = fasttext.load_model(sys.path[0] + \"/model_1.bin\")"
   ],
   "metadata": {
    "collapsed": false,
    "pycharm": {
     "name": "#%%\n"
    }
   }
  },
  {
   "cell_type": "code",
   "execution_count": null,
   "outputs": [],
   "source": [
    "dataset[\"is_duplicate\"] = dataset[\"is_duplicate\"].astype(int)"
   ],
   "metadata": {
    "collapsed": false,
    "pycharm": {
     "name": "#%%\n"
    }
   }
  },
  {
   "cell_type": "code",
   "execution_count": null,
   "outputs": [],
   "source": [
    "dataset_0 = dataset[dataset[\"is_duplicate\"] == 0].sample(n=3600)\n",
    "dataset_1 = dataset[dataset[\"is_duplicate\"] == 1].sample(n=3600)\n",
    "\n",
    "dataset_train_test = dataset_0.append(dataset_1).reset_index(drop=True)\n",
    "\n",
    "print(dataset_train_test.shape)"
   ],
   "metadata": {
    "collapsed": false,
    "pycharm": {
     "name": "#%%\n"
    }
   }
  },
  {
   "cell_type": "code",
   "execution_count": null,
   "outputs": [],
   "source": [
    "embeddings_name_1 = np.zeros((dataset_train_test.shape[0], 300), dtype=\"float32\")\n",
    "embeddings_name_2 = np.zeros((dataset_train_test.shape[0], 300), dtype=\"float32\")\n",
    "\n",
    "for i, sentence in enumerate(dataset_train_test[\"name_1_stemmed\"]):\n",
    "    embeddings_name_1[i, :] = model_1.get_sentence_vector(sentence)\n",
    "for i, sentence in enumerate(dataset_train_test[\"name_2_stemmed\"]):\n",
    "    embeddings_name_2[i, :] = model_1.get_sentence_vector(sentence)"
   ],
   "metadata": {
    "collapsed": false,
    "pycharm": {
     "name": "#%%\n"
    }
   }
  },
  {
   "cell_type": "code",
   "execution_count": null,
   "outputs": [],
   "source": [
    "embeddings_1 = np.hstack((embeddings_name_1, embeddings_name_2))\n",
    "embeddings_1.shape"
   ],
   "metadata": {
    "collapsed": false,
    "pycharm": {
     "name": "#%%\n"
    }
   }
  },
  {
   "cell_type": "code",
   "execution_count": null,
   "outputs": [],
   "source": [
    "def simularity(embeddings):\n",
    "    distances = np.zeros(embeddings.shape[0])\n",
    "\n",
    "    for i, sentence in enumerate(embeddings):\n",
    "        vector_i = sentence[0:300]\n",
    "        vector_j = sentence[300:]\n",
    "        distances[i] = cos_sim(vector_i, vector_j)\n",
    "\n",
    "    return distances\n",
    "\n",
    "\n",
    "cos_distance = simularity(embeddings_1)\n",
    "\n",
    "dataset_train_test[\"cos_distance\"] = cos_distance\n",
    "\n",
    "dataset_train_test.head(10)"
   ],
   "metadata": {
    "collapsed": false,
    "pycharm": {
     "name": "#%%\n"
    }
   }
  },
  {
   "cell_type": "code",
   "execution_count": null,
   "outputs": [],
   "source": [
    "cols = [\"emb_\" + str(i) for i in range(embeddings_1.shape[1])]\n",
    "embeddings_1_pd = pd.DataFrame(data=embeddings_1, columns=cols)\n",
    "embeddings_1_pd.head(10)"
   ],
   "metadata": {
    "collapsed": false,
    "pycharm": {
     "name": "#%%\n"
    }
   }
  },
  {
   "cell_type": "code",
   "execution_count": null,
   "outputs": [],
   "source": [
    "dataset_train_test.columns"
   ],
   "metadata": {
    "collapsed": false,
    "pycharm": {
     "name": "#%%\n"
    }
   }
  },
  {
   "cell_type": "code",
   "execution_count": null,
   "outputs": [],
   "source": [
    "dataset_train_test = dataset_train_test[\n",
    "    [\"pair_id\", \"name_1\", \"name_2\", \"cos_distance\", \"is_duplicate\"]\n",
    "]\n",
    "dataset_train_test = pd.concat((dataset_train_test, embeddings_1_pd), axis=1)\n",
    "\n",
    "dataset_train_test.shape"
   ],
   "metadata": {
    "collapsed": false,
    "pycharm": {
     "name": "#%%\n"
    }
   }
  },
  {
   "cell_type": "code",
   "execution_count": null,
   "outputs": [],
   "source": [
    "dataset_train_test.drop([\"pair_id\", \"name_1\", \"name_2\", \"is_duplicate\"], axis=1)"
   ],
   "metadata": {
    "collapsed": false,
    "pycharm": {
     "name": "#%%\n"
    }
   }
  },
  {
   "cell_type": "code",
   "execution_count": null,
   "outputs": [],
   "source": [
    "dataset_train_test[\"is_duplicate\"]"
   ],
   "metadata": {
    "collapsed": false,
    "pycharm": {
     "name": "#%%\n"
    }
   }
  },
  {
   "cell_type": "code",
   "execution_count": null,
   "outputs": [],
   "source": [
    "dataset_train_test.to_csv(\"data/dataset_train_test.csv\", sep=\";\", index=False)"
   ],
   "metadata": {
    "collapsed": false,
    "pycharm": {
     "name": "#%%\n"
    }
   }
  },
  {
   "cell_type": "code",
   "execution_count": null,
   "outputs": [],
   "source": [
    "train, test, y_train, y_test = train_test_split(\n",
    "    dataset_train_test.drop([\"pair_id\", \"name_1\", \"name_2\", \"is_duplicate\"], axis=1),\n",
    "    dataset_train_test[\"is_duplicate\"],\n",
    "    test_size=0.3,\n",
    "    shuffle=True,\n",
    "    random_state=42,\n",
    ")"
   ],
   "metadata": {
    "collapsed": false,
    "pycharm": {
     "name": "#%%\n"
    }
   }
  },
  {
   "cell_type": "code",
   "execution_count": null,
   "outputs": [],
   "source": [
    "from sklearn.linear_model import LogisticRegression\n",
    "\n",
    "\n",
    "logreg = LogisticRegression()\n",
    "logreg.fit(train, y_train)\n",
    "y_train_pred = logreg.predict(train)\n",
    "\n",
    "print(classification_report(y_train, y_train_pred))"
   ],
   "metadata": {
    "collapsed": false,
    "pycharm": {
     "name": "#%%\n"
    }
   }
  },
  {
   "cell_type": "code",
   "execution_count": null,
   "outputs": [],
   "source": [
    "y_test_pred = logreg.predict(test)\n",
    "\n",
    "print(classification_report(y_test, y_test_pred))"
   ],
   "metadata": {
    "collapsed": false,
    "pycharm": {
     "name": "#%%\n"
    }
   }
  },
  {
   "cell_type": "code",
   "execution_count": null,
   "outputs": [],
   "source": [
    "model_2 = fasttext.load_model(sys.path[0] + \"/model_2.bin\")\n",
    "\n",
    "dataset_train_test = dataset_0.append(dataset_1).reset_index(drop=True)\n",
    "\n",
    "embeddings_name_1 = np.zeros((dataset_train_test.shape[0], 300), dtype=\"float32\")\n",
    "embeddings_name_2 = np.zeros((dataset_train_test.shape[0], 300), dtype=\"float32\")\n",
    "\n",
    "for i, sentence in enumerate(dataset_train_test[\"name_1_stemmed\"]):\n",
    "    embeddings_name_1[i, :] = model_1.get_sentence_vector(sentence)\n",
    "for i, sentence in enumerate(dataset_train_test[\"name_2_stemmed\"]):\n",
    "    embeddings_name_2[i, :] = model_1.get_sentence_vector(sentence)\n",
    "\n",
    "embeddings_2 = np.hstack((embeddings_name_1, embeddings_name_2))\n",
    "\n",
    "\n",
    "cos_distance = simularity(embeddings_2)\n",
    "\n",
    "dataset_train_test[\"cos_distance\"] = cos_distance\n",
    "\n",
    "cols = [\"emb_\" + str(i) for i in range(embeddings_2.shape[1])]\n",
    "embeddings_2_pd = pd.DataFrame(data=embeddings_2, columns=cols)\n",
    "\n",
    "dataset_train_test = dataset_train_test[\n",
    "    [\"pair_id\", \"name_1\", \"name_2\", \"cos_distance\", \"is_duplicate\"]\n",
    "]\n",
    "dataset_train_test = pd.concat((dataset_train_test, embeddings_2_pd), axis=1)\n",
    "\n",
    "train, test, y_train, y_test = train_test_split(\n",
    "    dataset_train_test.drop([\"pair_id\", \"name_1\", \"name_2\", \"is_duplicate\"], axis=1),\n",
    "    dataset_train_test[\"is_duplicate\"],\n",
    "    test_size=0.3,\n",
    "    shuffle=True,\n",
    "    random_state=42,\n",
    ")\n",
    "\n",
    "\n",
    "logreg = LogisticRegression()\n",
    "logreg.fit(train, y_train)\n",
    "\n",
    "y_train_pred = logreg.predict(train)\n",
    "\n",
    "print(classification_report(y_train, y_train_pred))\n",
    "\n",
    "y_test_pred = logreg.predict(test)\n",
    "\n",
    "print(classification_report(y_test, y_test_pred))"
   ],
   "metadata": {
    "collapsed": false,
    "pycharm": {
     "name": "#%%\n"
    }
   }
  },
  {
   "cell_type": "code",
   "execution_count": null,
   "outputs": [],
   "source": [
    "model_3 = fasttext.load_model(sys.path[0] + \"/model_3.bin\")\n",
    "\n",
    "dataset_train_test = dataset_0.append(dataset_1).reset_index(drop=True)\n",
    "\n",
    "embeddings_name_1 = np.zeros((dataset_train_test.shape[0], 300), dtype=\"float32\")\n",
    "embeddings_name_3 = np.zeros((dataset_train_test.shape[0], 300), dtype=\"float32\")\n",
    "\n",
    "for i, sentence in enumerate(dataset_train_test[\"name_1_stemmed\"]):\n",
    "    embeddings_name_1[i, :] = model_1.get_sentence_vector(sentence)\n",
    "for i, sentence in enumerate(dataset_train_test[\"name_2_stemmed\"]):\n",
    "    embeddings_name_3[i, :] = model_1.get_sentence_vector(sentence)\n",
    "\n",
    "embeddings_3 = np.hstack((embeddings_name_1, embeddings_name_3))\n",
    "\n",
    "\n",
    "cos_distance = simularity(embeddings_3)\n",
    "\n",
    "dataset_train_test[\"cos_distance\"] = cos_distance\n",
    "\n",
    "cols = [\"emb_\" + str(i) for i in range(embeddings_3.shape[1])]\n",
    "embeddings_3_pd = pd.DataFrame(data=embeddings_3, columns=cols)\n",
    "\n",
    "dataset_train_test = dataset_train_test[\n",
    "    [\"pair_id\", \"name_1\", \"name_2\", \"cos_distance\", \"is_duplicate\"]\n",
    "]\n",
    "dataset_train_test = pd.concat((dataset_train_test, embeddings_3_pd), axis=1)\n",
    "\n",
    "train, test, y_train, y_test = train_test_split(\n",
    "    dataset_train_test.drop([\"pair_id\", \"name_1\", \"name_2\", \"is_duplicate\"], axis=1),\n",
    "    dataset_train_test[\"is_duplicate\"],\n",
    "    test_size=0.3,\n",
    "    shuffle=True,\n",
    "    random_state=42,\n",
    ")\n",
    "\n",
    "\n",
    "logreg = LogisticRegression()\n",
    "logreg.fit(train, y_train)\n",
    "\n",
    "y_train_pred = logreg.predict(train)\n",
    "\n",
    "print(classification_report(y_train, y_train_pred))\n",
    "\n",
    "y_test_pred = logreg.predict(test)\n",
    "\n",
    "print(classification_report(y_test, y_test_pred))"
   ],
   "metadata": {
    "collapsed": false,
    "pycharm": {
     "name": "#%%\n"
    }
   }
  },
  {
   "cell_type": "code",
   "execution_count": null,
   "metadata": {
    "pycharm": {
     "name": "#%%\n"
    }
   },
   "outputs": [],
   "source": []
  }
 ],
 "metadata": {
  "kernelspec": {
   "display_name": "Python 3.10.4 64-bit",
   "language": "python",
   "name": "python3"
  },
  "language_info": {
   "codemirror_mode": {
    "name": "ipython",
    "version": 3
   },
   "file_extension": ".py",
   "mimetype": "text/x-python",
   "name": "python",
   "nbconvert_exporter": "python",
   "pygments_lexer": "ipython3",
   "version": "3.10.4"
  },
  "orig_nbformat": 4,
  "vscode": {
   "interpreter": {
    "hash": "31f2aee4e71d21fbe5cf8b01ff0e069b9275f58929596ceb00d14d90e3e16cd6"
   }
  }
 },
 "nbformat": 4,
 "nbformat_minor": 2
}